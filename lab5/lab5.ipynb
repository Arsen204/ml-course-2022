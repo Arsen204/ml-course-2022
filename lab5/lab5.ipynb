{
 "cells": [
  {
   "cell_type": "markdown",
   "id": "72a3fcd4",
   "metadata": {},
   "source": [
    "**Вардумян А.Т. ИУ5-61Б**"
   ]
  },
  {
   "cell_type": "markdown",
   "id": "33e7b7ad",
   "metadata": {},
   "source": [
    "<a id='0'></a>\n",
    "# Оглавление"
   ]
  },
  {
   "cell_type": "markdown",
   "id": "5654b87f",
   "metadata": {},
   "source": [
    "2. [Задание](#1)<br>\n",
    "3. [Описание датасета](#2)<br>\n",
    "4. [Импорт библиотек](#3)<br>\n",
    "5. [Загрузка и первичный анализ данных](#4)<br>\n",
    "6. [Построение модели](#5)<br>\n",
    "7. [Сравнение моделей](#6)<br>"
   ]
  },
  {
   "cell_type": "markdown",
   "id": "f8d6e331",
   "metadata": {},
   "source": [
    "<a id=\"1\"></a>\n",
    "# Задание ([к оглавлению](#0))"
   ]
  },
  {
   "cell_type": "markdown",
   "id": "e2a6ff81",
   "metadata": {},
   "source": [
    "1. Выберите набор данных (датасет) для решения задачи классификации или регресии.\n",
    "\n",
    "2. В случае необходимости проведите удаление или заполнение пропусков и кодирование категориальных признаков.\n",
    "\n",
    "3. С использованием метода train_test_split разделите выборку на обучающую и тестовую.\n",
    "\n",
    "4. Обучите следующие ансамблевые модели:\n",
    "\n",
    "    * одну из моделей группы бэггинга (бэггинг или случайный лес или сверхслучайные деревья);\n",
    "    * одну из моделей группы бустинга;\n",
    "    * одну из моделей группы стекинга.\n",
    "\n",
    "5. Оцените качество моделей с помощью одной из подходящих для задачи метрик. Сравните качество полученных моделей."
   ]
  },
  {
   "cell_type": "markdown",
   "id": "d2b9d632",
   "metadata": {},
   "source": [
    "<a id=\"2\"></a>\n",
    "# Описание датасета ([к оглавлению](#0))"
   ]
  },
  {
   "cell_type": "markdown",
   "id": "570f7807",
   "metadata": {},
   "source": [
    "Digital payments are evolving, but so are cyber criminals.\n",
    "\n",
    "According to the Data Breach Index, more than 5 million records are being stolen on a daily basis, a concerning statistic that shows - fraud is still very common both for Card-Present and Card-not Present type of payments.\n",
    "\n",
    "In today’s digital world where trillions of Card transaction happens per day, detection of fraud is challenging.\n",
    "\n",
    "\n",
    "This Dataset sourced by some unnamed institute.\n",
    "\n",
    "---\n",
    "\n",
    "**Feature Explanation:**\n",
    "\n",
    "`distancefromhome` - the distance from home where the transaction happened.\n",
    "\n",
    "`distancefromlast_transaction` - the distance from last transaction happened.\n",
    "\n",
    "`ratiotomedianpurchaseprice` - Ratio of purchased price transaction to median purchase price.\n",
    "\n",
    "`repeat_retailer` - Is the transaction happened from same retailer.\n",
    "\n",
    "`used_chip` - Is the transaction through chip (credit card).\n",
    "\n",
    "`usedpinnumber` - Is the transaction happened by using PIN number.\n",
    "\n",
    "`online_order` - Is the transaction an online order.\n",
    "\n",
    "`fraud` - Is the transaction fraudulent."
   ]
  },
  {
   "cell_type": "markdown",
   "id": "e64e2773",
   "metadata": {},
   "source": [
    "<a id=\"3\"></a>\n",
    "# Импорт библиотек ([к оглавлению](#0))"
   ]
  },
  {
   "cell_type": "code",
   "execution_count": 81,
   "id": "9a980dad",
   "metadata": {},
   "outputs": [],
   "source": [
    "import numpy as np\n",
    "import pandas as pd\n",
    "\n",
    "from io import StringIO \n",
    "import graphviz\n",
    "import pydotplus\n",
    "from IPython.core.display import HTML, Image\n",
    "from operator import itemgetter\n",
    "from sklearn.compose import ColumnTransformer\n",
    "\n",
    "from sklearn.preprocessing import StandardScaler, OrdinalEncoder\n",
    "\n",
    "from sklearn.model_selection import train_test_split\n",
    "from sklearn.model_selection import GridSearchCV\n",
    "\n",
    "from sklearn.linear_model import LogisticRegression, LogisticRegressionCV\n",
    "from sklearn.tree import DecisionTreeClassifier, export_text, export_graphviz\n",
    "from sklearn.svm import SVC\n",
    "\n",
    "from sklearn.ensemble import RandomForestClassifier, BaggingClassifier, GradientBoostingClassifier\n",
    "\n",
    "from sklearn.pipeline import Pipeline\n",
    "\n",
    "from sklearn.metrics import recall_score, precision_score\n",
    "from sklearn.metrics import plot_confusion_matrix\n",
    "from sklearn.metrics import classification_report\n",
    "from sklearn.metrics import roc_curve, roc_auc_score\n",
    "\n",
    "import seaborn as sns\n",
    "import matplotlib.pyplot as plt\n",
    "%matplotlib inline \n",
    "sns.set(style=\"ticks\")"
   ]
  },
  {
   "cell_type": "markdown",
   "id": "4111ad49",
   "metadata": {},
   "source": [
    "<a id=\"4\"></a>\n",
    "# Загрузка и первичный анализ данных ([к оглавлению](#0))"
   ]
  },
  {
   "cell_type": "markdown",
   "id": "b36bdf7e",
   "metadata": {},
   "source": [
    "## Первичный анализ"
   ]
  },
  {
   "cell_type": "code",
   "execution_count": 2,
   "id": "8f97f250",
   "metadata": {
    "scrolled": false
   },
   "outputs": [
    {
     "data": {
      "text/html": [
       "<div>\n",
       "<style scoped>\n",
       "    .dataframe tbody tr th:only-of-type {\n",
       "        vertical-align: middle;\n",
       "    }\n",
       "\n",
       "    .dataframe tbody tr th {\n",
       "        vertical-align: top;\n",
       "    }\n",
       "\n",
       "    .dataframe thead th {\n",
       "        text-align: right;\n",
       "    }\n",
       "</style>\n",
       "<table border=\"1\" class=\"dataframe\">\n",
       "  <thead>\n",
       "    <tr style=\"text-align: right;\">\n",
       "      <th></th>\n",
       "      <th>distance_from_home</th>\n",
       "      <th>distance_from_last_transaction</th>\n",
       "      <th>ratio_to_median_purchase_price</th>\n",
       "      <th>repeat_retailer</th>\n",
       "      <th>used_chip</th>\n",
       "      <th>used_pin_number</th>\n",
       "      <th>online_order</th>\n",
       "      <th>fraud</th>\n",
       "    </tr>\n",
       "  </thead>\n",
       "  <tbody>\n",
       "    <tr>\n",
       "      <th>0</th>\n",
       "      <td>57.877857</td>\n",
       "      <td>0.311140</td>\n",
       "      <td>1.945940</td>\n",
       "      <td>1.0</td>\n",
       "      <td>1.0</td>\n",
       "      <td>0.0</td>\n",
       "      <td>0.0</td>\n",
       "      <td>0.0</td>\n",
       "    </tr>\n",
       "    <tr>\n",
       "      <th>1</th>\n",
       "      <td>10.829943</td>\n",
       "      <td>0.175592</td>\n",
       "      <td>1.294219</td>\n",
       "      <td>1.0</td>\n",
       "      <td>0.0</td>\n",
       "      <td>0.0</td>\n",
       "      <td>0.0</td>\n",
       "      <td>0.0</td>\n",
       "    </tr>\n",
       "    <tr>\n",
       "      <th>2</th>\n",
       "      <td>5.091079</td>\n",
       "      <td>0.805153</td>\n",
       "      <td>0.427715</td>\n",
       "      <td>1.0</td>\n",
       "      <td>0.0</td>\n",
       "      <td>0.0</td>\n",
       "      <td>1.0</td>\n",
       "      <td>0.0</td>\n",
       "    </tr>\n",
       "    <tr>\n",
       "      <th>3</th>\n",
       "      <td>2.247564</td>\n",
       "      <td>5.600044</td>\n",
       "      <td>0.362663</td>\n",
       "      <td>1.0</td>\n",
       "      <td>1.0</td>\n",
       "      <td>0.0</td>\n",
       "      <td>1.0</td>\n",
       "      <td>0.0</td>\n",
       "    </tr>\n",
       "    <tr>\n",
       "      <th>4</th>\n",
       "      <td>44.190936</td>\n",
       "      <td>0.566486</td>\n",
       "      <td>2.222767</td>\n",
       "      <td>1.0</td>\n",
       "      <td>1.0</td>\n",
       "      <td>0.0</td>\n",
       "      <td>1.0</td>\n",
       "      <td>0.0</td>\n",
       "    </tr>\n",
       "  </tbody>\n",
       "</table>\n",
       "</div>"
      ],
      "text/plain": [
       "   distance_from_home  distance_from_last_transaction  \\\n",
       "0           57.877857                        0.311140   \n",
       "1           10.829943                        0.175592   \n",
       "2            5.091079                        0.805153   \n",
       "3            2.247564                        5.600044   \n",
       "4           44.190936                        0.566486   \n",
       "\n",
       "   ratio_to_median_purchase_price  repeat_retailer  used_chip  \\\n",
       "0                        1.945940              1.0        1.0   \n",
       "1                        1.294219              1.0        0.0   \n",
       "2                        0.427715              1.0        0.0   \n",
       "3                        0.362663              1.0        1.0   \n",
       "4                        2.222767              1.0        1.0   \n",
       "\n",
       "   used_pin_number  online_order  fraud  \n",
       "0              0.0           0.0    0.0  \n",
       "1              0.0           0.0    0.0  \n",
       "2              0.0           1.0    0.0  \n",
       "3              0.0           1.0    0.0  \n",
       "4              0.0           1.0    0.0  "
      ]
     },
     "execution_count": 2,
     "metadata": {},
     "output_type": "execute_result"
    }
   ],
   "source": [
    "df = pd.read_csv(\"../datasets/card_transdata.csv\")\n",
    "df = df.head(100000)\n",
    "df.head()"
   ]
  },
  {
   "cell_type": "code",
   "execution_count": 3,
   "id": "48ef7c8a",
   "metadata": {
    "scrolled": true
   },
   "outputs": [
    {
     "name": "stdout",
     "output_type": "stream",
     "text": [
      "<class 'pandas.core.frame.DataFrame'>\n",
      "RangeIndex: 100000 entries, 0 to 99999\n",
      "Data columns (total 8 columns):\n",
      " #   Column                          Non-Null Count   Dtype  \n",
      "---  ------                          --------------   -----  \n",
      " 0   distance_from_home              100000 non-null  float64\n",
      " 1   distance_from_last_transaction  100000 non-null  float64\n",
      " 2   ratio_to_median_purchase_price  100000 non-null  float64\n",
      " 3   repeat_retailer                 100000 non-null  float64\n",
      " 4   used_chip                       100000 non-null  float64\n",
      " 5   used_pin_number                 100000 non-null  float64\n",
      " 6   online_order                    100000 non-null  float64\n",
      " 7   fraud                           100000 non-null  float64\n",
      "dtypes: float64(8)\n",
      "memory usage: 6.1 MB\n"
     ]
    }
   ],
   "source": [
    "df.info()"
   ]
  },
  {
   "cell_type": "code",
   "execution_count": 4,
   "id": "84e4eb60",
   "metadata": {},
   "outputs": [
    {
     "data": {
      "text/html": [
       "<div>\n",
       "<style scoped>\n",
       "    .dataframe tbody tr th:only-of-type {\n",
       "        vertical-align: middle;\n",
       "    }\n",
       "\n",
       "    .dataframe tbody tr th {\n",
       "        vertical-align: top;\n",
       "    }\n",
       "\n",
       "    .dataframe thead th {\n",
       "        text-align: right;\n",
       "    }\n",
       "</style>\n",
       "<table border=\"1\" class=\"dataframe\">\n",
       "  <thead>\n",
       "    <tr style=\"text-align: right;\">\n",
       "      <th></th>\n",
       "      <th>dist_home</th>\n",
       "      <th>dist_last</th>\n",
       "      <th>ratio</th>\n",
       "      <th>repeat</th>\n",
       "      <th>chip</th>\n",
       "      <th>pin</th>\n",
       "      <th>online</th>\n",
       "      <th>fraud</th>\n",
       "    </tr>\n",
       "  </thead>\n",
       "  <tbody>\n",
       "    <tr>\n",
       "      <th>0</th>\n",
       "      <td>57.877857</td>\n",
       "      <td>0.311140</td>\n",
       "      <td>1.945940</td>\n",
       "      <td>1.0</td>\n",
       "      <td>1.0</td>\n",
       "      <td>0.0</td>\n",
       "      <td>0.0</td>\n",
       "      <td>0.0</td>\n",
       "    </tr>\n",
       "    <tr>\n",
       "      <th>1</th>\n",
       "      <td>10.829943</td>\n",
       "      <td>0.175592</td>\n",
       "      <td>1.294219</td>\n",
       "      <td>1.0</td>\n",
       "      <td>0.0</td>\n",
       "      <td>0.0</td>\n",
       "      <td>0.0</td>\n",
       "      <td>0.0</td>\n",
       "    </tr>\n",
       "    <tr>\n",
       "      <th>2</th>\n",
       "      <td>5.091079</td>\n",
       "      <td>0.805153</td>\n",
       "      <td>0.427715</td>\n",
       "      <td>1.0</td>\n",
       "      <td>0.0</td>\n",
       "      <td>0.0</td>\n",
       "      <td>1.0</td>\n",
       "      <td>0.0</td>\n",
       "    </tr>\n",
       "    <tr>\n",
       "      <th>3</th>\n",
       "      <td>2.247564</td>\n",
       "      <td>5.600044</td>\n",
       "      <td>0.362663</td>\n",
       "      <td>1.0</td>\n",
       "      <td>1.0</td>\n",
       "      <td>0.0</td>\n",
       "      <td>1.0</td>\n",
       "      <td>0.0</td>\n",
       "    </tr>\n",
       "    <tr>\n",
       "      <th>4</th>\n",
       "      <td>44.190936</td>\n",
       "      <td>0.566486</td>\n",
       "      <td>2.222767</td>\n",
       "      <td>1.0</td>\n",
       "      <td>1.0</td>\n",
       "      <td>0.0</td>\n",
       "      <td>1.0</td>\n",
       "      <td>0.0</td>\n",
       "    </tr>\n",
       "  </tbody>\n",
       "</table>\n",
       "</div>"
      ],
      "text/plain": [
       "   dist_home  dist_last     ratio  repeat  chip  pin  online  fraud\n",
       "0  57.877857   0.311140  1.945940     1.0   1.0  0.0     0.0    0.0\n",
       "1  10.829943   0.175592  1.294219     1.0   0.0  0.0     0.0    0.0\n",
       "2   5.091079   0.805153  0.427715     1.0   0.0  0.0     1.0    0.0\n",
       "3   2.247564   5.600044  0.362663     1.0   1.0  0.0     1.0    0.0\n",
       "4  44.190936   0.566486  2.222767     1.0   1.0  0.0     1.0    0.0"
      ]
     },
     "execution_count": 4,
     "metadata": {},
     "output_type": "execute_result"
    }
   ],
   "source": [
    "df = df.rename(columns={\n",
    "    \"distance_from_home\": \"dist_home\",\n",
    "    \"distance_from_last_transaction\": \"dist_last\",\n",
    "    \"ratio_to_median_purchase_price\": \"ratio\",\n",
    "    \"repeat_retailer\": \"repeat\",\n",
    "    \"used_chip\": \"chip\",\n",
    "    \"used_pin_number\": \"pin\",\n",
    "    \"online_order\": \"online\"\n",
    "})\n",
    "df.head()"
   ]
  },
  {
   "cell_type": "code",
   "execution_count": 5,
   "id": "df753bea",
   "metadata": {},
   "outputs": [
    {
     "data": {
      "text/html": [
       "<div>\n",
       "<style scoped>\n",
       "    .dataframe tbody tr th:only-of-type {\n",
       "        vertical-align: middle;\n",
       "    }\n",
       "\n",
       "    .dataframe tbody tr th {\n",
       "        vertical-align: top;\n",
       "    }\n",
       "\n",
       "    .dataframe thead th {\n",
       "        text-align: right;\n",
       "    }\n",
       "</style>\n",
       "<table border=\"1\" class=\"dataframe\">\n",
       "  <thead>\n",
       "    <tr style=\"text-align: right;\">\n",
       "      <th></th>\n",
       "      <th>dist_home</th>\n",
       "      <th>dist_last</th>\n",
       "      <th>ratio</th>\n",
       "      <th>repeat</th>\n",
       "      <th>chip</th>\n",
       "      <th>pin</th>\n",
       "      <th>online</th>\n",
       "      <th>fraud</th>\n",
       "    </tr>\n",
       "  </thead>\n",
       "  <tbody>\n",
       "    <tr>\n",
       "      <th>0</th>\n",
       "      <td>57.877857</td>\n",
       "      <td>0.311140</td>\n",
       "      <td>1.945940</td>\n",
       "      <td>1</td>\n",
       "      <td>1</td>\n",
       "      <td>0</td>\n",
       "      <td>0</td>\n",
       "      <td>0</td>\n",
       "    </tr>\n",
       "    <tr>\n",
       "      <th>1</th>\n",
       "      <td>10.829943</td>\n",
       "      <td>0.175592</td>\n",
       "      <td>1.294219</td>\n",
       "      <td>1</td>\n",
       "      <td>0</td>\n",
       "      <td>0</td>\n",
       "      <td>0</td>\n",
       "      <td>0</td>\n",
       "    </tr>\n",
       "    <tr>\n",
       "      <th>2</th>\n",
       "      <td>5.091079</td>\n",
       "      <td>0.805153</td>\n",
       "      <td>0.427715</td>\n",
       "      <td>1</td>\n",
       "      <td>0</td>\n",
       "      <td>0</td>\n",
       "      <td>1</td>\n",
       "      <td>0</td>\n",
       "    </tr>\n",
       "    <tr>\n",
       "      <th>3</th>\n",
       "      <td>2.247564</td>\n",
       "      <td>5.600044</td>\n",
       "      <td>0.362663</td>\n",
       "      <td>1</td>\n",
       "      <td>1</td>\n",
       "      <td>0</td>\n",
       "      <td>1</td>\n",
       "      <td>0</td>\n",
       "    </tr>\n",
       "    <tr>\n",
       "      <th>4</th>\n",
       "      <td>44.190936</td>\n",
       "      <td>0.566486</td>\n",
       "      <td>2.222767</td>\n",
       "      <td>1</td>\n",
       "      <td>1</td>\n",
       "      <td>0</td>\n",
       "      <td>1</td>\n",
       "      <td>0</td>\n",
       "    </tr>\n",
       "  </tbody>\n",
       "</table>\n",
       "</div>"
      ],
      "text/plain": [
       "   dist_home  dist_last     ratio  repeat  chip  pin  online  fraud\n",
       "0  57.877857   0.311140  1.945940       1     1    0       0      0\n",
       "1  10.829943   0.175592  1.294219       1     0    0       0      0\n",
       "2   5.091079   0.805153  0.427715       1     0    0       1      0\n",
       "3   2.247564   5.600044  0.362663       1     1    0       1      0\n",
       "4  44.190936   0.566486  2.222767       1     1    0       1      0"
      ]
     },
     "execution_count": 5,
     "metadata": {},
     "output_type": "execute_result"
    }
   ],
   "source": [
    "cat_features = [\n",
    "    \"repeat\",\n",
    "    \"chip\",\n",
    "    \"pin\",\n",
    "    \"online\"\n",
    "]\n",
    "\n",
    "num_features = [\n",
    "    \"dist_home\",\n",
    "    \"dist_last\",\n",
    "    \"ratio\"\n",
    "]\n",
    "\n",
    "target_feature = \"fraud\"\n",
    "df[target_feature] = df[target_feature].astype(int)\n",
    "\n",
    "for feat in cat_features:\n",
    "    df[feat] = df[feat].astype(int)\n",
    "\n",
    "df.head()"
   ]
  },
  {
   "cell_type": "code",
   "execution_count": 6,
   "id": "0834bf13",
   "metadata": {
    "scrolled": false
   },
   "outputs": [
    {
     "data": {
      "text/html": [
       "<div>\n",
       "<style scoped>\n",
       "    .dataframe tbody tr th:only-of-type {\n",
       "        vertical-align: middle;\n",
       "    }\n",
       "\n",
       "    .dataframe tbody tr th {\n",
       "        vertical-align: top;\n",
       "    }\n",
       "\n",
       "    .dataframe thead th {\n",
       "        text-align: right;\n",
       "    }\n",
       "</style>\n",
       "<table border=\"1\" class=\"dataframe\">\n",
       "  <thead>\n",
       "    <tr style=\"text-align: right;\">\n",
       "      <th></th>\n",
       "      <th>dist_home</th>\n",
       "      <th>dist_last</th>\n",
       "      <th>ratio</th>\n",
       "      <th>repeat</th>\n",
       "      <th>chip</th>\n",
       "      <th>pin</th>\n",
       "      <th>online</th>\n",
       "      <th>fraud</th>\n",
       "    </tr>\n",
       "  </thead>\n",
       "  <tbody>\n",
       "    <tr>\n",
       "      <th>count</th>\n",
       "      <td>100000.000000</td>\n",
       "      <td>100000.000000</td>\n",
       "      <td>100000.000000</td>\n",
       "      <td>100000.000000</td>\n",
       "      <td>100000.000000</td>\n",
       "      <td>100000.000000</td>\n",
       "      <td>100000.000000</td>\n",
       "      <td>100000.000000</td>\n",
       "    </tr>\n",
       "    <tr>\n",
       "      <th>mean</th>\n",
       "      <td>26.688487</td>\n",
       "      <td>5.023716</td>\n",
       "      <td>1.819374</td>\n",
       "      <td>0.882090</td>\n",
       "      <td>0.351060</td>\n",
       "      <td>0.103250</td>\n",
       "      <td>0.650660</td>\n",
       "      <td>0.087100</td>\n",
       "    </tr>\n",
       "    <tr>\n",
       "      <th>std</th>\n",
       "      <td>65.132078</td>\n",
       "      <td>24.439420</td>\n",
       "      <td>2.912849</td>\n",
       "      <td>0.322503</td>\n",
       "      <td>0.477304</td>\n",
       "      <td>0.304287</td>\n",
       "      <td>0.476764</td>\n",
       "      <td>0.281983</td>\n",
       "    </tr>\n",
       "    <tr>\n",
       "      <th>min</th>\n",
       "      <td>0.021322</td>\n",
       "      <td>0.000488</td>\n",
       "      <td>0.011373</td>\n",
       "      <td>0.000000</td>\n",
       "      <td>0.000000</td>\n",
       "      <td>0.000000</td>\n",
       "      <td>0.000000</td>\n",
       "      <td>0.000000</td>\n",
       "    </tr>\n",
       "    <tr>\n",
       "      <th>25%</th>\n",
       "      <td>3.864892</td>\n",
       "      <td>0.295815</td>\n",
       "      <td>0.476392</td>\n",
       "      <td>1.000000</td>\n",
       "      <td>0.000000</td>\n",
       "      <td>0.000000</td>\n",
       "      <td>0.000000</td>\n",
       "      <td>0.000000</td>\n",
       "    </tr>\n",
       "    <tr>\n",
       "      <th>50%</th>\n",
       "      <td>9.965281</td>\n",
       "      <td>0.996695</td>\n",
       "      <td>0.996081</td>\n",
       "      <td>1.000000</td>\n",
       "      <td>0.000000</td>\n",
       "      <td>0.000000</td>\n",
       "      <td>1.000000</td>\n",
       "      <td>0.000000</td>\n",
       "    </tr>\n",
       "    <tr>\n",
       "      <th>75%</th>\n",
       "      <td>25.726777</td>\n",
       "      <td>3.333064</td>\n",
       "      <td>2.089016</td>\n",
       "      <td>1.000000</td>\n",
       "      <td>1.000000</td>\n",
       "      <td>0.000000</td>\n",
       "      <td>1.000000</td>\n",
       "      <td>0.000000</td>\n",
       "    </tr>\n",
       "    <tr>\n",
       "      <th>max</th>\n",
       "      <td>4601.011222</td>\n",
       "      <td>2160.499922</td>\n",
       "      <td>266.689692</td>\n",
       "      <td>1.000000</td>\n",
       "      <td>1.000000</td>\n",
       "      <td>1.000000</td>\n",
       "      <td>1.000000</td>\n",
       "      <td>1.000000</td>\n",
       "    </tr>\n",
       "  </tbody>\n",
       "</table>\n",
       "</div>"
      ],
      "text/plain": [
       "           dist_home      dist_last          ratio         repeat  \\\n",
       "count  100000.000000  100000.000000  100000.000000  100000.000000   \n",
       "mean       26.688487       5.023716       1.819374       0.882090   \n",
       "std        65.132078      24.439420       2.912849       0.322503   \n",
       "min         0.021322       0.000488       0.011373       0.000000   \n",
       "25%         3.864892       0.295815       0.476392       1.000000   \n",
       "50%         9.965281       0.996695       0.996081       1.000000   \n",
       "75%        25.726777       3.333064       2.089016       1.000000   \n",
       "max      4601.011222    2160.499922     266.689692       1.000000   \n",
       "\n",
       "                chip            pin         online          fraud  \n",
       "count  100000.000000  100000.000000  100000.000000  100000.000000  \n",
       "mean        0.351060       0.103250       0.650660       0.087100  \n",
       "std         0.477304       0.304287       0.476764       0.281983  \n",
       "min         0.000000       0.000000       0.000000       0.000000  \n",
       "25%         0.000000       0.000000       0.000000       0.000000  \n",
       "50%         0.000000       0.000000       1.000000       0.000000  \n",
       "75%         1.000000       0.000000       1.000000       0.000000  \n",
       "max         1.000000       1.000000       1.000000       1.000000  "
      ]
     },
     "execution_count": 6,
     "metadata": {},
     "output_type": "execute_result"
    }
   ],
   "source": [
    "df.describe()"
   ]
  },
  {
   "cell_type": "markdown",
   "id": "f4d2d25a",
   "metadata": {},
   "source": [
    "## Корреляционный анализ"
   ]
  },
  {
   "cell_type": "code",
   "execution_count": 7,
   "id": "8f59f541",
   "metadata": {
    "scrolled": true
   },
   "outputs": [
    {
     "data": {
      "text/html": [
       "<div>\n",
       "<style scoped>\n",
       "    .dataframe tbody tr th:only-of-type {\n",
       "        vertical-align: middle;\n",
       "    }\n",
       "\n",
       "    .dataframe tbody tr th {\n",
       "        vertical-align: top;\n",
       "    }\n",
       "\n",
       "    .dataframe thead th {\n",
       "        text-align: right;\n",
       "    }\n",
       "</style>\n",
       "<table border=\"1\" class=\"dataframe\">\n",
       "  <thead>\n",
       "    <tr style=\"text-align: right;\">\n",
       "      <th></th>\n",
       "      <th>dist_home</th>\n",
       "      <th>dist_last</th>\n",
       "      <th>ratio</th>\n",
       "      <th>repeat</th>\n",
       "      <th>chip</th>\n",
       "      <th>pin</th>\n",
       "      <th>online</th>\n",
       "      <th>fraud</th>\n",
       "    </tr>\n",
       "  </thead>\n",
       "  <tbody>\n",
       "    <tr>\n",
       "      <th>dist_home</th>\n",
       "      <td>1.000000</td>\n",
       "      <td>-0.002562</td>\n",
       "      <td>-0.000656</td>\n",
       "      <td>0.143589</td>\n",
       "      <td>-0.002928</td>\n",
       "      <td>0.002518</td>\n",
       "      <td>-0.000250</td>\n",
       "      <td>0.187143</td>\n",
       "    </tr>\n",
       "    <tr>\n",
       "      <th>dist_last</th>\n",
       "      <td>-0.002562</td>\n",
       "      <td>1.000000</td>\n",
       "      <td>0.000531</td>\n",
       "      <td>-0.006873</td>\n",
       "      <td>0.000284</td>\n",
       "      <td>0.001851</td>\n",
       "      <td>-0.001003</td>\n",
       "      <td>0.097031</td>\n",
       "    </tr>\n",
       "    <tr>\n",
       "      <th>ratio</th>\n",
       "      <td>-0.000656</td>\n",
       "      <td>0.000531</td>\n",
       "      <td>1.000000</td>\n",
       "      <td>-0.001365</td>\n",
       "      <td>-0.000684</td>\n",
       "      <td>0.001522</td>\n",
       "      <td>0.002817</td>\n",
       "      <td>0.441085</td>\n",
       "    </tr>\n",
       "    <tr>\n",
       "      <th>repeat</th>\n",
       "      <td>0.143589</td>\n",
       "      <td>-0.006873</td>\n",
       "      <td>-0.001365</td>\n",
       "      <td>1.000000</td>\n",
       "      <td>-0.002641</td>\n",
       "      <td>-0.002301</td>\n",
       "      <td>0.003508</td>\n",
       "      <td>-0.002200</td>\n",
       "    </tr>\n",
       "    <tr>\n",
       "      <th>chip</th>\n",
       "      <td>-0.002928</td>\n",
       "      <td>0.000284</td>\n",
       "      <td>-0.000684</td>\n",
       "      <td>-0.002641</td>\n",
       "      <td>1.000000</td>\n",
       "      <td>-0.000048</td>\n",
       "      <td>-0.001629</td>\n",
       "      <td>-0.062392</td>\n",
       "    </tr>\n",
       "    <tr>\n",
       "      <th>pin</th>\n",
       "      <td>0.002518</td>\n",
       "      <td>0.001851</td>\n",
       "      <td>0.001522</td>\n",
       "      <td>-0.002301</td>\n",
       "      <td>-0.000048</td>\n",
       "      <td>1.000000</td>\n",
       "      <td>0.000616</td>\n",
       "      <td>-0.101431</td>\n",
       "    </tr>\n",
       "    <tr>\n",
       "      <th>online</th>\n",
       "      <td>-0.000250</td>\n",
       "      <td>-0.001003</td>\n",
       "      <td>0.002817</td>\n",
       "      <td>0.003508</td>\n",
       "      <td>-0.001629</td>\n",
       "      <td>0.000616</td>\n",
       "      <td>1.000000</td>\n",
       "      <td>0.192710</td>\n",
       "    </tr>\n",
       "    <tr>\n",
       "      <th>fraud</th>\n",
       "      <td>0.187143</td>\n",
       "      <td>0.097031</td>\n",
       "      <td>0.441085</td>\n",
       "      <td>-0.002200</td>\n",
       "      <td>-0.062392</td>\n",
       "      <td>-0.101431</td>\n",
       "      <td>0.192710</td>\n",
       "      <td>1.000000</td>\n",
       "    </tr>\n",
       "  </tbody>\n",
       "</table>\n",
       "</div>"
      ],
      "text/plain": [
       "           dist_home  dist_last     ratio    repeat      chip       pin  \\\n",
       "dist_home   1.000000  -0.002562 -0.000656  0.143589 -0.002928  0.002518   \n",
       "dist_last  -0.002562   1.000000  0.000531 -0.006873  0.000284  0.001851   \n",
       "ratio      -0.000656   0.000531  1.000000 -0.001365 -0.000684  0.001522   \n",
       "repeat      0.143589  -0.006873 -0.001365  1.000000 -0.002641 -0.002301   \n",
       "chip       -0.002928   0.000284 -0.000684 -0.002641  1.000000 -0.000048   \n",
       "pin         0.002518   0.001851  0.001522 -0.002301 -0.000048  1.000000   \n",
       "online     -0.000250  -0.001003  0.002817  0.003508 -0.001629  0.000616   \n",
       "fraud       0.187143   0.097031  0.441085 -0.002200 -0.062392 -0.101431   \n",
       "\n",
       "             online     fraud  \n",
       "dist_home -0.000250  0.187143  \n",
       "dist_last -0.001003  0.097031  \n",
       "ratio      0.002817  0.441085  \n",
       "repeat     0.003508 -0.002200  \n",
       "chip      -0.001629 -0.062392  \n",
       "pin        0.000616 -0.101431  \n",
       "online     1.000000  0.192710  \n",
       "fraud      0.192710  1.000000  "
      ]
     },
     "execution_count": 7,
     "metadata": {},
     "output_type": "execute_result"
    }
   ],
   "source": [
    "corr = df.corr()\n",
    "corr"
   ]
  },
  {
   "cell_type": "code",
   "execution_count": 8,
   "id": "92aef35d",
   "metadata": {
    "scrolled": false
   },
   "outputs": [
    {
     "data": {
      "text/plain": [
       "dist_home    0.187143\n",
       "dist_last    0.097031\n",
       "ratio        0.441085\n",
       "repeat      -0.002200\n",
       "chip        -0.062392\n",
       "pin         -0.101431\n",
       "online       0.192710\n",
       "fraud        1.000000\n",
       "Name: fraud, dtype: float64"
      ]
     },
     "execution_count": 8,
     "metadata": {},
     "output_type": "execute_result"
    }
   ],
   "source": [
    "corr[target_feature]"
   ]
  },
  {
   "cell_type": "code",
   "execution_count": 9,
   "id": "84f43b83",
   "metadata": {
    "scrolled": false
   },
   "outputs": [
    {
     "data": {
      "text/plain": [
       "<AxesSubplot:>"
      ]
     },
     "execution_count": 9,
     "metadata": {},
     "output_type": "execute_result"
    },
    {
     "data": {
      "image/png": "[encoded data removed]",
      "text/plain": [
       "<Figure size 936x720 with 2 Axes>"
      ]
     },
     "metadata": {},
     "output_type": "display_data"
    }
   ],
   "source": [
    "fig, ax = plt.subplots(1, 1, sharex='col', sharey='row', figsize=(13,10))\n",
    "fig.suptitle('Корреляционная матрица')\n",
    "sns.heatmap(corr, ax=ax, annot=True, fmt='.3f', cmap='YlGnBu')"
   ]
  },
  {
   "cell_type": "markdown",
   "id": "ea7a444a",
   "metadata": {},
   "source": [
    "<a id=\"5\"></a>\n",
    "# Построение модели ([к оглавлению](#0))"
   ]
  },
  {
   "cell_type": "markdown",
   "id": "c5bacc03",
   "metadata": {},
   "source": [
    "## Разделение выборки"
   ]
  },
  {
   "cell_type": "code",
   "execution_count": 10,
   "id": "a4b60a3f",
   "metadata": {},
   "outputs": [],
   "source": [
    "# Отрисовка ROC-кривой\n",
    "def draw_roc_curve(y_true, y_score, pos_label, average):\n",
    "    fpr, tpr, thresholds = roc_curve(y_true, y_score, pos_label=pos_label)\n",
    "    roc_auc_value = roc_auc_score(y_true, y_score, average=average)\n",
    "    plt.figure()\n",
    "    lw = 2\n",
    "    plt.plot(fpr, tpr, color='darkorange', lw=lw, label='ROC curve (area = %0.2f)' % roc_auc_value)\n",
    "    plt.plot([0, 1], [0, 1], color='navy', lw=lw, linestyle='--')\n",
    "    plt.xlim([0.0, 1.0])\n",
    "    plt.ylim([0.0, 1.05])\n",
    "    plt.xlabel('False Positive Rate')\n",
    "    plt.ylabel('True Positive Rate')\n",
    "    plt.title('Receiver operating characteristic example')\n",
    "    plt.legend(loc=\"lower right\")\n",
    "    plt.show()"
   ]
  },
  {
   "cell_type": "code",
   "execution_count": 11,
   "id": "83912bb7",
   "metadata": {},
   "outputs": [],
   "source": [
    "# Тестовая и обучающая выборки\n",
    "X = df.loc[:, df.columns != target_feature]\n",
    "y = df[target_feature]\n",
    "X_train, X_test, y_train, y_test = train_test_split(X, y, test_size=0.2, random_state=1, stratify=y)"
   ]
  },
  {
   "cell_type": "code",
   "execution_count": 12,
   "id": "ded278c2",
   "metadata": {},
   "outputs": [],
   "source": [
    "preprocess = ColumnTransformer([('continuous', StandardScaler(), num_features),\n",
    "                               ('categorial', OrdinalEncoder(), cat_features)])\n",
    "\n",
    "X_train_preprocessed = preprocess.fit_transform(X_train)\n",
    "X_test_preprocessed = preprocess.fit_transform(X_test)"
   ]
  },
  {
   "cell_type": "markdown",
   "id": "900deb13",
   "metadata": {},
   "source": [
    "## Бэггинг с деревьями решений"
   ]
  },
  {
   "cell_type": "code",
   "execution_count": 31,
   "id": "9387ccc0",
   "metadata": {
    "scrolled": true
   },
   "outputs": [
    {
     "name": "stdout",
     "output_type": "stream",
     "text": [
      "CPU times: user 871 ms, sys: 17.6 ms, total: 888 ms\n",
      "Wall time: 894 ms\n"
     ]
    },
    {
     "data": {
      "text/plain": [
       "BaggingClassifier()"
      ]
     },
     "execution_count": 31,
     "metadata": {},
     "output_type": "execute_result"
    }
   ],
   "source": [
    "%%time\n",
    "bagg_baseline = BaggingClassifier()\n",
    "bagg_baseline.fit(X_train, y_train)"
   ]
  },
  {
   "cell_type": "code",
   "execution_count": 249,
   "id": "9b0aeff8",
   "metadata": {},
   "outputs": [
    {
     "data": {
      "image/png": "[encoded data removed]",
      "text/plain": [
       "<Figure size 432x288 with 2 Axes>"
      ]
     },
     "metadata": {},
     "output_type": "display_data"
    },
    {
     "data": {
      "image/png": "[encoded data removed]",
      "text/plain": [
       "<Figure size 432x288 with 1 Axes>"
      ]
     },
     "metadata": {},
     "output_type": "display_data"
    },
    {
     "data": {
      "text/plain": [
       "(0.9994246260069045, 0.9971297359357061)"
      ]
     },
     "execution_count": 249,
     "metadata": {},
     "output_type": "execute_result"
    }
   ],
   "source": [
    "predict = bagg_baseline.predict(X_test)\n",
    "\n",
    "plot_confusion_matrix(bagg_baseline, X_test, y_test, cmap=plt.cm.Blues, normalize='true')\n",
    "draw_roc_curve(y_test, predict, pos_label=1, average='micro')\n",
    "precision_score(y_test, predict), recall_score(y_test, predict)"
   ]
  },
  {
   "cell_type": "markdown",
   "id": "d33ddead",
   "metadata": {},
   "source": [
    "## Градиентный бустинг"
   ]
  },
  {
   "cell_type": "code",
   "execution_count": 39,
   "id": "22bf63af",
   "metadata": {},
   "outputs": [
    {
     "name": "stdout",
     "output_type": "stream",
     "text": [
      "CPU times: user 9.35 s, sys: 128 ms, total: 9.48 s\n",
      "Wall time: 9.56 s\n"
     ]
    },
    {
     "data": {
      "text/plain": [
       "GradientBoostingClassifier()"
      ]
     },
     "execution_count": 39,
     "metadata": {},
     "output_type": "execute_result"
    }
   ],
   "source": [
    "%%time\n",
    "boost_baseline = GradientBoostingClassifier()\n",
    "boost_baseline.fit(X_train, y_train)"
   ]
  },
  {
   "cell_type": "code",
   "execution_count": 251,
   "id": "0559947a",
   "metadata": {},
   "outputs": [
    {
     "data": {
      "image/png": "[encoded data removed]",
      "text/plain": [
       "<Figure size 432x288 with 2 Axes>"
      ]
     },
     "metadata": {},
     "output_type": "display_data"
    },
    {
     "data": {
      "image/png": "[encoded data removed]",
      "text/plain": [
       "<Figure size 432x288 with 1 Axes>"
      ]
     },
     "metadata": {},
     "output_type": "display_data"
    },
    {
     "data": {
      "text/plain": [
       "(1.0, 0.9965556831228473)"
      ]
     },
     "execution_count": 251,
     "metadata": {},
     "output_type": "execute_result"
    }
   ],
   "source": [
    "predict = boost_baseline.predict(X_test)\n",
    "\n",
    "plot_confusion_matrix(boost_baseline, X_test, y_test, cmap=plt.cm.Blues, normalize='true')\n",
    "draw_roc_curve(y_test, predict, pos_label=1, average='micro')\n",
    "precision_score(y_test, predict), recall_score(y_test, predict)"
   ]
  },
  {
   "cell_type": "markdown",
   "id": "f688656d",
   "metadata": {},
   "source": [
    "## Стекинг"
   ]
  },
  {
   "cell_type": "code",
   "execution_count": 13,
   "id": "f3db9412",
   "metadata": {
    "scrolled": true
   },
   "outputs": [
    {
     "name": "stdout",
     "output_type": "stream",
     "text": [
      "Collecting heamy\n",
      "  Downloading heamy-0.0.7.tar.gz (30 kB)\n",
      "Requirement already satisfied: scikit-learn>=0.17.0 in /usr/local/anaconda3/lib/python3.9/site-packages (from heamy) (0.24.2)\n",
      "Requirement already satisfied: pandas>=0.17.0 in /usr/local/anaconda3/lib/python3.9/site-packages (from heamy) (1.3.4)\n",
      "Requirement already satisfied: six>=1.10.0 in /usr/local/anaconda3/lib/python3.9/site-packages (from heamy) (1.16.0)\n",
      "Requirement already satisfied: scipy>=0.16.0 in /usr/local/anaconda3/lib/python3.9/site-packages (from heamy) (1.7.1)\n",
      "Requirement already satisfied: numpy>=1.7.0 in /usr/local/anaconda3/lib/python3.9/site-packages (from heamy) (1.20.3)\n",
      "Requirement already satisfied: python-dateutil>=2.7.3 in /usr/local/anaconda3/lib/python3.9/site-packages (from pandas>=0.17.0->heamy) (2.8.2)\n",
      "Requirement already satisfied: pytz>=2017.3 in /usr/local/anaconda3/lib/python3.9/site-packages (from pandas>=0.17.0->heamy) (2021.3)\n",
      "Requirement already satisfied: threadpoolctl>=2.0.0 in /usr/local/anaconda3/lib/python3.9/site-packages (from scikit-learn>=0.17.0->heamy) (2.2.0)\n",
      "Requirement already satisfied: joblib>=0.11 in /usr/local/anaconda3/lib/python3.9/site-packages (from scikit-learn>=0.17.0->heamy) (1.1.0)\n",
      "Building wheels for collected packages: heamy\n",
      "  Building wheel for heamy (setup.py) ... \u001b[?25ldone\n",
      "\u001b[?25h  Created wheel for heamy: filename=heamy-0.0.7-py2.py3-none-any.whl size=15366 sha256=9c8bcf3bcc172c29451ae7a6218637eaaa18e2119cb198c06da0732f0f2da18b\n",
      "  Stored in directory: /Users/arsenvardumyan/Library/Caches/pip/wheels/8b/45/dd/8ff1625c56b8bc7e9596c9d6d16b8d50cdffbb06f5b63bf3e9\n",
      "Successfully built heamy\n",
      "Installing collected packages: heamy\n",
      "Successfully installed heamy-0.0.7\n"
     ]
    }
   ],
   "source": [
    "import sys\n",
    "!{sys.executable} -m pip install heamy"
   ]
  },
  {
   "cell_type": "code",
   "execution_count": 67,
   "id": "cc65f2b4",
   "metadata": {},
   "outputs": [],
   "source": [
    "from heamy.estimator import Regressor, Classifier\n",
    "from heamy.pipeline import ModelsPipeline\n",
    "from heamy.dataset import Dataset"
   ]
  },
  {
   "cell_type": "code",
   "execution_count": 68,
   "id": "a434c18d",
   "metadata": {},
   "outputs": [],
   "source": [
    "dataset = Dataset(X_train_preprocessed, y_train, X_test_preprocessed)"
   ]
  },
  {
   "cell_type": "code",
   "execution_count": 74,
   "id": "b5ee0c13",
   "metadata": {},
   "outputs": [],
   "source": [
    "model_tree = Classifier(dataset=dataset, estimator=DecisionTreeClassifier, name='tree')\n",
    "model_lr = Classifier(dataset=dataset, estimator=LogisticRegression, name='lr')\n",
    "model_rf = Classifier(dataset=dataset, estimator=RandomForestClassifier, parameters={'n_estimators': 50},name='rf')"
   ]
  },
  {
   "cell_type": "markdown",
   "id": "fd633bd6",
   "metadata": {},
   "source": [
    "### Эксперимент 1"
   ]
  },
  {
   "cell_type": "code",
   "execution_count": 108,
   "id": "b4bf468a",
   "metadata": {},
   "outputs": [
    {
     "data": {
      "image/png": "[encoded data removed]",
      "text/plain": [
       "<Figure size 432x288 with 1 Axes>"
      ]
     },
     "metadata": {},
     "output_type": "display_data"
    },
    {
     "data": {
      "text/plain": [
       "(0.9119496855345912, 0.9988518943742825)"
      ]
     },
     "execution_count": 108,
     "metadata": {},
     "output_type": "execute_result"
    }
   ],
   "source": [
    "# Эксперимент 1\n",
    "pipeline = ModelsPipeline(model_tree, model_lr)\n",
    "stack_ds = pipeline.stack(k=10, seed=1)\n",
    "# модель второго уровня\n",
    "stacker = Classifier(dataset=stack_ds, estimator=DecisionTreeClassifier)\n",
    "predict = stacker.predict()\n",
    "draw_roc_curve(y_test, predict, pos_label=1, average='micro')\n",
    "precision_score(y_test, predict), recall_score(y_test, predict)"
   ]
  },
  {
   "cell_type": "markdown",
   "id": "5f12bc80",
   "metadata": {},
   "source": [
    "### Эксперимент 2"
   ]
  },
  {
   "cell_type": "code",
   "execution_count": 119,
   "id": "9230944c",
   "metadata": {},
   "outputs": [
    {
     "data": {
      "image/png": "[encoded data removed]",
      "text/plain": [
       "<Figure size 432x288 with 1 Axes>"
      ]
     },
     "metadata": {},
     "output_type": "display_data"
    },
    {
     "data": {
      "text/plain": [
       "(0.9138655462184874, 0.9988518943742825)"
      ]
     },
     "execution_count": 119,
     "metadata": {},
     "output_type": "execute_result"
    }
   ],
   "source": [
    "pipeline = ModelsPipeline(model_tree, model_lr, model_rf)\n",
    "stack_ds3 = pipeline.stack(k=10, seed=1)\n",
    "# модель второго уровня\n",
    "stacker = Classifier(dataset=stack_ds3, estimator=DecisionTreeClassifier)\n",
    "predict = stacker.predict()\n",
    "draw_roc_curve(y_test, predict, pos_label=1, average='micro')\n",
    "precision_score(y_test, predict), recall_score(y_test, predict)"
   ]
  },
  {
   "cell_type": "markdown",
   "id": "032745b6",
   "metadata": {},
   "source": [
    "<a id=\"6\"></a>\n",
    "# Сравнение моделей ([к оглавлению](#0))"
   ]
  },
  {
   "cell_type": "markdown",
   "id": "b07ab608",
   "metadata": {},
   "source": [
    "|Метрика|Бэггинг|Бустинг|Стекинг1|Стекинг2|\n",
    "| :- | :-: | :-: | :-: | :-: |\n",
    "|Recall|0.997|0.997|0.999| 0.999 |\n",
    "|Precision|0.999|1.00|0.912| 0.914 |\n",
    "|AUC|1.00|1.00|1.00| 0.99 | 0.99 |"
   ]
  }
 ],
 "metadata": {
  "kernelspec": {
   "display_name": "Python 3 (ipykernel)",
   "language": "python",
   "name": "python3"
  },
  "language_info": {
   "codemirror_mode": {
    "name": "ipython",
    "version": 3
   },
   "file_extension": ".py",
   "mimetype": "text/x-python",
   "name": "python",
   "nbconvert_exporter": "python",
   "pygments_lexer": "ipython3",
   "version": "3.9.7"
  },
  "toc": {
   "base_numbering": 1,
   "nav_menu": {},
   "number_sections": true,
   "sideBar": true,
   "skip_h1_title": false,
   "title_cell": "Table of Contents",
   "title_sidebar": "Contents",
   "toc_cell": false,
   "toc_position": {},
   "toc_section_display": true,
   "toc_window_display": false
  }
 },
 "nbformat": 4,
 "nbformat_minor": 5
}
