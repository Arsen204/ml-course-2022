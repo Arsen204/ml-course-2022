{
 "cells": [
  {
   "cell_type": "markdown",
   "id": "72a3fcd4",
   "metadata": {},
   "source": [
    "**Вардумян А.Т. ИУ5-61Б**"
   ]
  },
  {
   "cell_type": "markdown",
   "id": "33e7b7ad",
   "metadata": {},
   "source": [
    "<a id='0'></a>\n",
    "# Оглавление"
   ]
  },
  {
   "cell_type": "markdown",
   "id": "5654b87f",
   "metadata": {},
   "source": [
    "2. [Задание](#1)<br>\n",
    "3. [Описание датасета](#2)<br>\n",
    "4. [Импорт библиотек](#3)<br>\n",
    "5. [Загрузка и первичный анализ данных](#4)<br>\n",
    "6. [Построение модели](#5)<br>\n",
    "7. [Подбор гиперпараметра K](#6)<br>"
   ]
  },
  {
   "cell_type": "markdown",
   "id": "f8d6e331",
   "metadata": {},
   "source": [
    "<a id=\"1\"></a>\n",
    "# Задание ([к оглавлению](#0))"
   ]
  },
  {
   "cell_type": "markdown",
   "id": "e2a6ff81",
   "metadata": {},
   "source": [
    "1. Выберите набор данных (датасет) для решения задачи классификации или регрессии.\n",
    "2. С использованием метода train_test_split разделите выборку на обучающую и тестовую.\n",
    "3. Обучите модель ближайших соседей для произвольно заданного гиперпараметра K. Оцените качество модели с помощью подходящих для задачи метрик.\n",
    "4. Произведите подбор гиперпараметра K с использованием GridSearchCV и/или RandomizedSearchCV и кросс-валидации, оцените качество оптимальной модели. Желательно использование нескольких стратегий кросс-валидации.\n",
    "5. Сравните метрики качества исходной и оптимальной моделей."
   ]
  },
  {
   "cell_type": "markdown",
   "id": "d2b9d632",
   "metadata": {},
   "source": [
    "<a id=\"2\"></a>\n",
    "# Описание датасета ([к оглавлению](#0))"
   ]
  },
  {
   "cell_type": "markdown",
   "id": "570f7807",
   "metadata": {},
   "source": [
    "Digital payments are evolving, but so are cyber criminals.\n",
    "\n",
    "According to the Data Breach Index, more than 5 million records are being stolen on a daily basis, a concerning statistic that shows - fraud is still very common both for Card-Present and Card-not Present type of payments.\n",
    "\n",
    "In today’s digital world where trillions of Card transaction happens per day, detection of fraud is challenging.\n",
    "\n",
    "\n",
    "This Dataset sourced by some unnamed institute.\n",
    "\n",
    "---\n",
    "\n",
    "**Feature Explanation:**\n",
    "\n",
    "`distancefromhome` - the distance from home where the transaction happened.\n",
    "\n",
    "`distancefromlast_transaction` - the distance from last transaction happened.\n",
    "\n",
    "`ratiotomedianpurchaseprice` - Ratio of purchased price transaction to median purchase price.\n",
    "\n",
    "`repeat_retailer` - Is the transaction happened from same retailer.\n",
    "\n",
    "`used_chip` - Is the transaction through chip (credit card).\n",
    "\n",
    "`usedpinnumber` - Is the transaction happened by using PIN number.\n",
    "\n",
    "`online_order` - Is the transaction an online order.\n",
    "\n",
    "`fraud` - Is the transaction fraudulent."
   ]
  },
  {
   "cell_type": "markdown",
   "id": "e64e2773",
   "metadata": {},
   "source": [
    "<a id=\"3\"></a>\n",
    "# Импорт библиотек ([к оглавлению](#0))"
   ]
  },
  {
   "cell_type": "code",
   "execution_count": 2,
   "id": "9a980dad",
   "metadata": {},
   "outputs": [],
   "source": [
    "import numpy as np\n",
    "import pandas as pd\n",
    "from typing import Dict, Tuple\n",
    "from scipy import stats\n",
    "\n",
    "from sklearn.model_selection import train_test_split\n",
    "from sklearn.neighbors import KNeighborsClassifier\n",
    "\n",
    "from sklearn.metrics import accuracy_score, recall_score\n",
    "from sklearn.metrics import plot_confusion_matrix\n",
    "from sklearn.metrics import classification_report\n",
    "from sklearn.metrics import roc_curve, roc_auc_score\n",
    "from sklearn.metrics import precision_recall_curve, PrecisionRecallDisplay\n",
    "\n",
    "from sklearn.model_selection import GridSearchCV\n",
    "from sklearn.model_selection import cross_val_score, cross_validate\n",
    "from sklearn.model_selection import learning_curve, validation_curve\n",
    "from sklearn.model_selection import KFold, StratifiedKFold\n",
    "\n",
    "import seaborn as sns\n",
    "import matplotlib.pyplot as plt\n",
    "%matplotlib inline \n",
    "sns.set(style=\"ticks\")"
   ]
  },
  {
   "cell_type": "markdown",
   "id": "4111ad49",
   "metadata": {},
   "source": [
    "<a id=\"4\"></a>\n",
    "# Загрузка и первичный анализ данных ([к оглавлению](#0))"
   ]
  },
  {
   "cell_type": "code",
   "execution_count": 3,
   "id": "8f97f250",
   "metadata": {
    "scrolled": false
   },
   "outputs": [
    {
     "data": {
      "text/html": [
       "<div>\n",
       "<style scoped>\n",
       "    .dataframe tbody tr th:only-of-type {\n",
       "        vertical-align: middle;\n",
       "    }\n",
       "\n",
       "    .dataframe tbody tr th {\n",
       "        vertical-align: top;\n",
       "    }\n",
       "\n",
       "    .dataframe thead th {\n",
       "        text-align: right;\n",
       "    }\n",
       "</style>\n",
       "<table border=\"1\" class=\"dataframe\">\n",
       "  <thead>\n",
       "    <tr style=\"text-align: right;\">\n",
       "      <th></th>\n",
       "      <th>distance_from_home</th>\n",
       "      <th>distance_from_last_transaction</th>\n",
       "      <th>ratio_to_median_purchase_price</th>\n",
       "      <th>repeat_retailer</th>\n",
       "      <th>used_chip</th>\n",
       "      <th>used_pin_number</th>\n",
       "      <th>online_order</th>\n",
       "      <th>fraud</th>\n",
       "    </tr>\n",
       "  </thead>\n",
       "  <tbody>\n",
       "    <tr>\n",
       "      <th>0</th>\n",
       "      <td>57.877857</td>\n",
       "      <td>0.311140</td>\n",
       "      <td>1.945940</td>\n",
       "      <td>1.0</td>\n",
       "      <td>1.0</td>\n",
       "      <td>0.0</td>\n",
       "      <td>0.0</td>\n",
       "      <td>0.0</td>\n",
       "    </tr>\n",
       "    <tr>\n",
       "      <th>1</th>\n",
       "      <td>10.829943</td>\n",
       "      <td>0.175592</td>\n",
       "      <td>1.294219</td>\n",
       "      <td>1.0</td>\n",
       "      <td>0.0</td>\n",
       "      <td>0.0</td>\n",
       "      <td>0.0</td>\n",
       "      <td>0.0</td>\n",
       "    </tr>\n",
       "    <tr>\n",
       "      <th>2</th>\n",
       "      <td>5.091079</td>\n",
       "      <td>0.805153</td>\n",
       "      <td>0.427715</td>\n",
       "      <td>1.0</td>\n",
       "      <td>0.0</td>\n",
       "      <td>0.0</td>\n",
       "      <td>1.0</td>\n",
       "      <td>0.0</td>\n",
       "    </tr>\n",
       "    <tr>\n",
       "      <th>3</th>\n",
       "      <td>2.247564</td>\n",
       "      <td>5.600044</td>\n",
       "      <td>0.362663</td>\n",
       "      <td>1.0</td>\n",
       "      <td>1.0</td>\n",
       "      <td>0.0</td>\n",
       "      <td>1.0</td>\n",
       "      <td>0.0</td>\n",
       "    </tr>\n",
       "    <tr>\n",
       "      <th>4</th>\n",
       "      <td>44.190936</td>\n",
       "      <td>0.566486</td>\n",
       "      <td>2.222767</td>\n",
       "      <td>1.0</td>\n",
       "      <td>1.0</td>\n",
       "      <td>0.0</td>\n",
       "      <td>1.0</td>\n",
       "      <td>0.0</td>\n",
       "    </tr>\n",
       "  </tbody>\n",
       "</table>\n",
       "</div>"
      ],
      "text/plain": [
       "   distance_from_home  distance_from_last_transaction  \\\n",
       "0           57.877857                        0.311140   \n",
       "1           10.829943                        0.175592   \n",
       "2            5.091079                        0.805153   \n",
       "3            2.247564                        5.600044   \n",
       "4           44.190936                        0.566486   \n",
       "\n",
       "   ratio_to_median_purchase_price  repeat_retailer  used_chip  \\\n",
       "0                        1.945940              1.0        1.0   \n",
       "1                        1.294219              1.0        0.0   \n",
       "2                        0.427715              1.0        0.0   \n",
       "3                        0.362663              1.0        1.0   \n",
       "4                        2.222767              1.0        1.0   \n",
       "\n",
       "   used_pin_number  online_order  fraud  \n",
       "0              0.0           0.0    0.0  \n",
       "1              0.0           0.0    0.0  \n",
       "2              0.0           1.0    0.0  \n",
       "3              0.0           1.0    0.0  \n",
       "4              0.0           1.0    0.0  "
      ]
     },
     "execution_count": 3,
     "metadata": {},
     "output_type": "execute_result"
    }
   ],
   "source": [
    "df = pd.read_csv(\"card_transdata.csv\")\n",
    "df.head()"
   ]
  },
  {
   "cell_type": "code",
   "execution_count": 4,
   "id": "84e4eb60",
   "metadata": {},
   "outputs": [],
   "source": [
    "df = df.rename(columns={\n",
    "    \"distance_from_home\": \"dist_home\",\n",
    "    \"distance_from_last_transaction\": \"dist_last\",\n",
    "    \"ratio_to_median_purchase_price\": \"ratio\",\n",
    "    \"repeat_retailer\": \"repeat\",\n",
    "    \"used_chip\": \"chip\",\n",
    "    \"used_pin_number\": \"pin\",\n",
    "    \"online_order\": \"online\"\n",
    "})"
   ]
  },
  {
   "cell_type": "code",
   "execution_count": 5,
   "id": "0834bf13",
   "metadata": {
    "scrolled": true
   },
   "outputs": [
    {
     "data": {
      "text/html": [
       "<div>\n",
       "<style scoped>\n",
       "    .dataframe tbody tr th:only-of-type {\n",
       "        vertical-align: middle;\n",
       "    }\n",
       "\n",
       "    .dataframe tbody tr th {\n",
       "        vertical-align: top;\n",
       "    }\n",
       "\n",
       "    .dataframe thead th {\n",
       "        text-align: right;\n",
       "    }\n",
       "</style>\n",
       "<table border=\"1\" class=\"dataframe\">\n",
       "  <thead>\n",
       "    <tr style=\"text-align: right;\">\n",
       "      <th></th>\n",
       "      <th>dist_home</th>\n",
       "      <th>dist_last</th>\n",
       "      <th>ratio</th>\n",
       "      <th>repeat</th>\n",
       "      <th>chip</th>\n",
       "      <th>pin</th>\n",
       "      <th>online</th>\n",
       "      <th>fraud</th>\n",
       "    </tr>\n",
       "  </thead>\n",
       "  <tbody>\n",
       "    <tr>\n",
       "      <th>count</th>\n",
       "      <td>1000000.000000</td>\n",
       "      <td>1000000.000000</td>\n",
       "      <td>1000000.000000</td>\n",
       "      <td>1000000.000000</td>\n",
       "      <td>1000000.000000</td>\n",
       "      <td>1000000.000000</td>\n",
       "      <td>1000000.000000</td>\n",
       "      <td>1000000.000000</td>\n",
       "    </tr>\n",
       "    <tr>\n",
       "      <th>mean</th>\n",
       "      <td>26.628792</td>\n",
       "      <td>5.036519</td>\n",
       "      <td>1.824182</td>\n",
       "      <td>0.881536</td>\n",
       "      <td>0.350399</td>\n",
       "      <td>0.100608</td>\n",
       "      <td>0.650552</td>\n",
       "      <td>0.087403</td>\n",
       "    </tr>\n",
       "    <tr>\n",
       "      <th>std</th>\n",
       "      <td>65.390784</td>\n",
       "      <td>25.843093</td>\n",
       "      <td>2.799589</td>\n",
       "      <td>0.323157</td>\n",
       "      <td>0.477095</td>\n",
       "      <td>0.300809</td>\n",
       "      <td>0.476796</td>\n",
       "      <td>0.282425</td>\n",
       "    </tr>\n",
       "    <tr>\n",
       "      <th>min</th>\n",
       "      <td>0.004874</td>\n",
       "      <td>0.000118</td>\n",
       "      <td>0.004399</td>\n",
       "      <td>0.000000</td>\n",
       "      <td>0.000000</td>\n",
       "      <td>0.000000</td>\n",
       "      <td>0.000000</td>\n",
       "      <td>0.000000</td>\n",
       "    </tr>\n",
       "    <tr>\n",
       "      <th>25%</th>\n",
       "      <td>3.878008</td>\n",
       "      <td>0.296671</td>\n",
       "      <td>0.475673</td>\n",
       "      <td>1.000000</td>\n",
       "      <td>0.000000</td>\n",
       "      <td>0.000000</td>\n",
       "      <td>0.000000</td>\n",
       "      <td>0.000000</td>\n",
       "    </tr>\n",
       "    <tr>\n",
       "      <th>50%</th>\n",
       "      <td>9.967760</td>\n",
       "      <td>0.998650</td>\n",
       "      <td>0.997717</td>\n",
       "      <td>1.000000</td>\n",
       "      <td>0.000000</td>\n",
       "      <td>0.000000</td>\n",
       "      <td>1.000000</td>\n",
       "      <td>0.000000</td>\n",
       "    </tr>\n",
       "    <tr>\n",
       "      <th>75%</th>\n",
       "      <td>25.743985</td>\n",
       "      <td>3.355748</td>\n",
       "      <td>2.096370</td>\n",
       "      <td>1.000000</td>\n",
       "      <td>1.000000</td>\n",
       "      <td>0.000000</td>\n",
       "      <td>1.000000</td>\n",
       "      <td>0.000000</td>\n",
       "    </tr>\n",
       "    <tr>\n",
       "      <th>max</th>\n",
       "      <td>10632.723672</td>\n",
       "      <td>11851.104565</td>\n",
       "      <td>267.802942</td>\n",
       "      <td>1.000000</td>\n",
       "      <td>1.000000</td>\n",
       "      <td>1.000000</td>\n",
       "      <td>1.000000</td>\n",
       "      <td>1.000000</td>\n",
       "    </tr>\n",
       "  </tbody>\n",
       "</table>\n",
       "</div>"
      ],
      "text/plain": [
       "            dist_home       dist_last           ratio          repeat  \\\n",
       "count  1000000.000000  1000000.000000  1000000.000000  1000000.000000   \n",
       "mean        26.628792        5.036519        1.824182        0.881536   \n",
       "std         65.390784       25.843093        2.799589        0.323157   \n",
       "min          0.004874        0.000118        0.004399        0.000000   \n",
       "25%          3.878008        0.296671        0.475673        1.000000   \n",
       "50%          9.967760        0.998650        0.997717        1.000000   \n",
       "75%         25.743985        3.355748        2.096370        1.000000   \n",
       "max      10632.723672    11851.104565      267.802942        1.000000   \n",
       "\n",
       "                 chip             pin          online           fraud  \n",
       "count  1000000.000000  1000000.000000  1000000.000000  1000000.000000  \n",
       "mean         0.350399        0.100608        0.650552        0.087403  \n",
       "std          0.477095        0.300809        0.476796        0.282425  \n",
       "min          0.000000        0.000000        0.000000        0.000000  \n",
       "25%          0.000000        0.000000        0.000000        0.000000  \n",
       "50%          0.000000        0.000000        1.000000        0.000000  \n",
       "75%          1.000000        0.000000        1.000000        0.000000  \n",
       "max          1.000000        1.000000        1.000000        1.000000  "
      ]
     },
     "execution_count": 5,
     "metadata": {},
     "output_type": "execute_result"
    }
   ],
   "source": [
    "df.describe()"
   ]
  },
  {
   "cell_type": "code",
   "execution_count": 5,
   "id": "1876d2aa",
   "metadata": {},
   "outputs": [
    {
     "data": {
      "text/plain": [
       "(1000000, 8)"
      ]
     },
     "execution_count": 5,
     "metadata": {},
     "output_type": "execute_result"
    }
   ],
   "source": [
    "df.shape"
   ]
  },
  {
   "cell_type": "code",
   "execution_count": 6,
   "id": "820ace29",
   "metadata": {},
   "outputs": [],
   "source": [
    "#возьмем только 50000 первых строк\n",
    "df = df.head(50000)"
   ]
  },
  {
   "cell_type": "code",
   "execution_count": 7,
   "id": "3f308dcd",
   "metadata": {},
   "outputs": [
    {
     "name": "stdout",
     "output_type": "stream",
     "text": [
      "Колонка repeat: [1 0]\n",
      "Колонка chip: [1 0]\n",
      "Колонка pin: [0 1]\n",
      "Колонка online: [0 1]\n",
      "Колонка fraud: [0 1]\n"
     ]
    }
   ],
   "source": [
    "discrete_features = [\n",
    "    \"repeat\",\n",
    "    \"chip\",\n",
    "    \"pin\",\n",
    "    \"online\",\n",
    "    \"fraud\"\n",
    "]\n",
    "\n",
    "for feat in discrete_features:\n",
    "    df[feat] = df[feat].astype(int)\n",
    "    print(f'Колонка {feat}: {df[feat].unique()}')"
   ]
  },
  {
   "cell_type": "code",
   "execution_count": 8,
   "id": "f1fa9171",
   "metadata": {},
   "outputs": [
    {
     "name": "stdout",
     "output_type": "stream",
     "text": [
      "<class 'pandas.core.frame.DataFrame'>\n",
      "RangeIndex: 50000 entries, 0 to 49999\n",
      "Data columns (total 8 columns):\n",
      " #   Column     Non-Null Count  Dtype  \n",
      "---  ------     --------------  -----  \n",
      " 0   dist_home  50000 non-null  float64\n",
      " 1   dist_last  50000 non-null  float64\n",
      " 2   ratio      50000 non-null  float64\n",
      " 3   repeat     50000 non-null  int64  \n",
      " 4   chip       50000 non-null  int64  \n",
      " 5   pin        50000 non-null  int64  \n",
      " 6   online     50000 non-null  int64  \n",
      " 7   fraud      50000 non-null  int64  \n",
      "dtypes: float64(3), int64(5)\n",
      "memory usage: 3.1 MB\n"
     ]
    }
   ],
   "source": [
    "df.info()"
   ]
  },
  {
   "cell_type": "code",
   "execution_count": 9,
   "id": "8f59f541",
   "metadata": {
    "scrolled": false
   },
   "outputs": [
    {
     "data": {
      "text/html": [
       "<div>\n",
       "<style scoped>\n",
       "    .dataframe tbody tr th:only-of-type {\n",
       "        vertical-align: middle;\n",
       "    }\n",
       "\n",
       "    .dataframe tbody tr th {\n",
       "        vertical-align: top;\n",
       "    }\n",
       "\n",
       "    .dataframe thead th {\n",
       "        text-align: right;\n",
       "    }\n",
       "</style>\n",
       "<table border=\"1\" class=\"dataframe\">\n",
       "  <thead>\n",
       "    <tr style=\"text-align: right;\">\n",
       "      <th></th>\n",
       "      <th>dist_home</th>\n",
       "      <th>dist_last</th>\n",
       "      <th>ratio</th>\n",
       "      <th>repeat</th>\n",
       "      <th>chip</th>\n",
       "      <th>pin</th>\n",
       "      <th>online</th>\n",
       "      <th>fraud</th>\n",
       "    </tr>\n",
       "  </thead>\n",
       "  <tbody>\n",
       "    <tr>\n",
       "      <th>dist_home</th>\n",
       "      <td>1.000000</td>\n",
       "      <td>-0.004150</td>\n",
       "      <td>0.002670</td>\n",
       "      <td>0.136132</td>\n",
       "      <td>-0.001765</td>\n",
       "      <td>0.005620</td>\n",
       "      <td>-0.001649</td>\n",
       "      <td>0.180288</td>\n",
       "    </tr>\n",
       "    <tr>\n",
       "      <th>dist_last</th>\n",
       "      <td>-0.004150</td>\n",
       "      <td>1.000000</td>\n",
       "      <td>-0.001902</td>\n",
       "      <td>-0.010311</td>\n",
       "      <td>-0.006626</td>\n",
       "      <td>0.001329</td>\n",
       "      <td>-0.001758</td>\n",
       "      <td>0.103179</td>\n",
       "    </tr>\n",
       "    <tr>\n",
       "      <th>ratio</th>\n",
       "      <td>0.002670</td>\n",
       "      <td>-0.001902</td>\n",
       "      <td>1.000000</td>\n",
       "      <td>0.001572</td>\n",
       "      <td>0.008193</td>\n",
       "      <td>0.004216</td>\n",
       "      <td>-0.002310</td>\n",
       "      <td>0.458288</td>\n",
       "    </tr>\n",
       "    <tr>\n",
       "      <th>repeat</th>\n",
       "      <td>0.136132</td>\n",
       "      <td>-0.010311</td>\n",
       "      <td>0.001572</td>\n",
       "      <td>1.000000</td>\n",
       "      <td>0.002110</td>\n",
       "      <td>-0.000668</td>\n",
       "      <td>0.006170</td>\n",
       "      <td>-0.001257</td>\n",
       "    </tr>\n",
       "    <tr>\n",
       "      <th>chip</th>\n",
       "      <td>-0.001765</td>\n",
       "      <td>-0.006626</td>\n",
       "      <td>0.008193</td>\n",
       "      <td>0.002110</td>\n",
       "      <td>1.000000</td>\n",
       "      <td>-0.004120</td>\n",
       "      <td>0.001536</td>\n",
       "      <td>-0.062658</td>\n",
       "    </tr>\n",
       "    <tr>\n",
       "      <th>pin</th>\n",
       "      <td>0.005620</td>\n",
       "      <td>0.001329</td>\n",
       "      <td>0.004216</td>\n",
       "      <td>-0.000668</td>\n",
       "      <td>-0.004120</td>\n",
       "      <td>1.000000</td>\n",
       "      <td>0.000945</td>\n",
       "      <td>-0.100114</td>\n",
       "    </tr>\n",
       "    <tr>\n",
       "      <th>online</th>\n",
       "      <td>-0.001649</td>\n",
       "      <td>-0.001758</td>\n",
       "      <td>-0.002310</td>\n",
       "      <td>0.006170</td>\n",
       "      <td>0.001536</td>\n",
       "      <td>0.000945</td>\n",
       "      <td>1.000000</td>\n",
       "      <td>0.192275</td>\n",
       "    </tr>\n",
       "    <tr>\n",
       "      <th>fraud</th>\n",
       "      <td>0.180288</td>\n",
       "      <td>0.103179</td>\n",
       "      <td>0.458288</td>\n",
       "      <td>-0.001257</td>\n",
       "      <td>-0.062658</td>\n",
       "      <td>-0.100114</td>\n",
       "      <td>0.192275</td>\n",
       "      <td>1.000000</td>\n",
       "    </tr>\n",
       "  </tbody>\n",
       "</table>\n",
       "</div>"
      ],
      "text/plain": [
       "           dist_home  dist_last     ratio    repeat      chip       pin  \\\n",
       "dist_home   1.000000  -0.004150  0.002670  0.136132 -0.001765  0.005620   \n",
       "dist_last  -0.004150   1.000000 -0.001902 -0.010311 -0.006626  0.001329   \n",
       "ratio       0.002670  -0.001902  1.000000  0.001572  0.008193  0.004216   \n",
       "repeat      0.136132  -0.010311  0.001572  1.000000  0.002110 -0.000668   \n",
       "chip       -0.001765  -0.006626  0.008193  0.002110  1.000000 -0.004120   \n",
       "pin         0.005620   0.001329  0.004216 -0.000668 -0.004120  1.000000   \n",
       "online     -0.001649  -0.001758 -0.002310  0.006170  0.001536  0.000945   \n",
       "fraud       0.180288   0.103179  0.458288 -0.001257 -0.062658 -0.100114   \n",
       "\n",
       "             online     fraud  \n",
       "dist_home -0.001649  0.180288  \n",
       "dist_last -0.001758  0.103179  \n",
       "ratio     -0.002310  0.458288  \n",
       "repeat     0.006170 -0.001257  \n",
       "chip       0.001536 -0.062658  \n",
       "pin        0.000945 -0.100114  \n",
       "online     1.000000  0.192275  \n",
       "fraud      0.192275  1.000000  "
      ]
     },
     "execution_count": 9,
     "metadata": {},
     "output_type": "execute_result"
    }
   ],
   "source": [
    "df.corr()"
   ]
  },
  {
   "cell_type": "code",
   "execution_count": 10,
   "id": "92aef35d",
   "metadata": {
    "scrolled": true
   },
   "outputs": [
    {
     "data": {
      "text/plain": [
       "dist_home    0.180288\n",
       "dist_last    0.103179\n",
       "ratio        0.458288\n",
       "repeat      -0.001257\n",
       "chip        -0.062658\n",
       "pin         -0.100114\n",
       "online       0.192275\n",
       "fraud        1.000000\n",
       "Name: fraud, dtype: float64"
      ]
     },
     "execution_count": 10,
     "metadata": {},
     "output_type": "execute_result"
    }
   ],
   "source": [
    "df.corr()['fraud']"
   ]
  },
  {
   "cell_type": "code",
   "execution_count": 11,
   "id": "84f43b83",
   "metadata": {
    "scrolled": false
   },
   "outputs": [
    {
     "data": {
      "text/plain": [
       "<AxesSubplot:>"
      ]
     },
     "execution_count": 11,
     "metadata": {},
     "output_type": "execute_result"
    },
    {
     "data": {
      "image/png": "[encoded data removed]",
      "text/plain": [
       "<Figure size 936x720 with 2 Axes>"
      ]
     },
     "metadata": {},
     "output_type": "display_data"
    }
   ],
   "source": [
    "fig, ax = plt.subplots(1, 1, sharex='col', sharey='row', figsize=(13,10))\n",
    "fig.suptitle('Корреляционная матрица')\n",
    "sns.heatmap(df.corr(), ax=ax, annot=True, fmt='.3f', cmap='YlGnBu')"
   ]
  },
  {
   "cell_type": "markdown",
   "id": "ea7a444a",
   "metadata": {},
   "source": [
    "<a id=\"5\"></a>\n",
    "# Построение модели ([к оглавлению](#0))"
   ]
  },
  {
   "cell_type": "code",
   "execution_count": 1,
   "id": "5294a060",
   "metadata": {},
   "outputs": [
    {
     "ename": "NameError",
     "evalue": "name 'df' is not defined",
     "output_type": "error",
     "traceback": [
      "\u001b[0;31m---------------------------------------------------------------------------\u001b[0m",
      "\u001b[0;31mNameError\u001b[0m                                 Traceback (most recent call last)",
      "\u001b[0;32m/var/folders/d7/hkwc8wzx3n5_6k1ypwx80mw80000gn/T/ipykernel_52422/458435668.py\u001b[0m in \u001b[0;36m<module>\u001b[0;34m\u001b[0m\n\u001b[0;32m----> 1\u001b[0;31m \u001b[0mfeatures\u001b[0m \u001b[0;34m=\u001b[0m \u001b[0mdf\u001b[0m\u001b[0;34m.\u001b[0m\u001b[0mloc\u001b[0m\u001b[0;34m[\u001b[0m\u001b[0;34m:\u001b[0m\u001b[0;34m,\u001b[0m \u001b[0mdf\u001b[0m\u001b[0;34m.\u001b[0m\u001b[0mcolumns\u001b[0m \u001b[0;34m!=\u001b[0m \u001b[0;34m'fraud'\u001b[0m\u001b[0;34m]\u001b[0m\u001b[0;34m\u001b[0m\u001b[0;34m\u001b[0m\u001b[0m\n\u001b[0m\u001b[1;32m      2\u001b[0m \u001b[0mtarget\u001b[0m \u001b[0;34m=\u001b[0m \u001b[0mdf\u001b[0m\u001b[0;34m[\u001b[0m\u001b[0;34m\"fraud\"\u001b[0m\u001b[0;34m]\u001b[0m\u001b[0;34m\u001b[0m\u001b[0;34m\u001b[0m\u001b[0m\n\u001b[1;32m      3\u001b[0m \u001b[0mX_train\u001b[0m\u001b[0;34m,\u001b[0m \u001b[0mX_test\u001b[0m\u001b[0;34m,\u001b[0m \u001b[0my_train\u001b[0m\u001b[0;34m,\u001b[0m \u001b[0my_test\u001b[0m \u001b[0;34m=\u001b[0m \u001b[0mtrain_test_split\u001b[0m\u001b[0;34m(\u001b[0m\u001b[0mfeatures\u001b[0m\u001b[0;34m,\u001b[0m \u001b[0mtarget\u001b[0m\u001b[0;34m,\u001b[0m \u001b[0mtest_size\u001b[0m\u001b[0;34m=\u001b[0m\u001b[0;36m0.2\u001b[0m\u001b[0;34m,\u001b[0m \u001b[0mrandom_state\u001b[0m\u001b[0;34m=\u001b[0m\u001b[0;36m1\u001b[0m\u001b[0;34m)\u001b[0m\u001b[0;34m\u001b[0m\u001b[0;34m\u001b[0m\u001b[0m\n",
      "\u001b[0;31mNameError\u001b[0m: name 'df' is not defined"
     ]
    }
   ],
   "source": [
    "X_train, X_test, y_train, y_test = \\\n",
    "train_test_split(df.loc[:, df.columns != 'fraud'], df[\"fraud\"], test_size=0.2, random_state=1)"
   ]
  },
  {
   "cell_type": "code",
   "execution_count": 13,
   "id": "090e404b",
   "metadata": {},
   "outputs": [],
   "source": [
    "def class_proportions(array: np.ndarray) -> Dict[int, Tuple[int, float]]:\n",
    "    labels, counts = np.unique(array, return_counts=True)\n",
    "    counts_perc = counts/array.size\n",
    "    res = dict()\n",
    "    for label, count2 in zip(labels, zip(counts, counts_perc)):\n",
    "        res[label] = count2\n",
    "    return res\n",
    "\n",
    "def print_class_proportions(array: np.ndarray):\n",
    "    proportions = class_proportions(array)\n",
    "    if len(proportions)>0:\n",
    "        print('Метка \\t Количество \\t Процент встречаемости')\n",
    "    for i in proportions:\n",
    "        val, val_perc = proportions[i]\n",
    "        val_perc_100 = round(val_perc * 100, 2)\n",
    "        print('{} \\t {:<10} \\t {}%'.format(i, val, val_perc_100))"
   ]
  },
  {
   "cell_type": "code",
   "execution_count": 14,
   "id": "628161da",
   "metadata": {},
   "outputs": [
    {
     "name": "stdout",
     "output_type": "stream",
     "text": [
      "Метка \t Количество \t Процент встречаемости\n",
      "0 \t 36538      \t 91.34%\n",
      "1 \t 3462       \t 8.65%\n"
     ]
    }
   ],
   "source": [
    "print_class_proportions(y_train)"
   ]
  },
  {
   "cell_type": "code",
   "execution_count": 15,
   "id": "e7b414b1",
   "metadata": {},
   "outputs": [
    {
     "name": "stdout",
     "output_type": "stream",
     "text": [
      "Метка \t Количество \t Процент встречаемости\n",
      "0 \t 9145       \t 91.45%\n",
      "1 \t 855        \t 8.55%\n"
     ]
    }
   ],
   "source": [
    "print_class_proportions(y_test)"
   ]
  },
  {
   "cell_type": "code",
   "execution_count": 16,
   "id": "13de4791",
   "metadata": {},
   "outputs": [
    {
     "data": {
      "text/plain": [
       "(10000, array([0, 0, 0, ..., 0, 0, 0]))"
      ]
     },
     "execution_count": 16,
     "metadata": {},
     "output_type": "execute_result"
    }
   ],
   "source": [
    "knn10 = KNeighborsClassifier(n_neighbors=10)\n",
    "knn10.fit(X_train, y_train)\n",
    "target10 = knn10.predict(X_test)\n",
    "len(target10), target10"
   ]
  },
  {
   "cell_type": "code",
   "execution_count": 17,
   "id": "a4b7526e",
   "metadata": {},
   "outputs": [],
   "source": [
    "def accuracy_score_for_classes(\n",
    "    y_true: np.ndarray, \n",
    "    y_pred: np.ndarray) -> Dict[int, float]:\n",
    "    d = {'t': y_true, 'p': y_pred}\n",
    "    df = pd.DataFrame(data=d)\n",
    "    classes = np.unique(y_true)\n",
    "    res = dict()\n",
    "\n",
    "    for c in classes:\n",
    "        temp_data_flt = df[df['t']==c]\n",
    "        temp_acc = accuracy_score(\n",
    "            temp_data_flt['t'].values, \n",
    "            temp_data_flt['p'].values)\n",
    "        res[c] = temp_acc\n",
    "        \n",
    "    return res\n",
    "\n",
    "def print_accuracy_score_for_classes(\n",
    "    y_true: np.ndarray, \n",
    "    y_pred: np.ndarray):\n",
    "    accs = accuracy_score_for_classes(y_true, y_pred)\n",
    "    if len(accs)>0:\n",
    "        print('Метка \\t Accuracy')\n",
    "    for i in accs:\n",
    "        print('{} \\t {}'.format(i, accs[i]))"
   ]
  },
  {
   "cell_type": "code",
   "execution_count": 18,
   "id": "ef9048b0",
   "metadata": {
    "scrolled": true
   },
   "outputs": [
    {
     "name": "stdout",
     "output_type": "stream",
     "text": [
      "Метка \t Accuracy\n",
      "0 \t 0.9825041006014216\n",
      "1 \t 0.6608187134502924\n"
     ]
    }
   ],
   "source": [
    "print_accuracy_score_for_classes(y_test, target10)"
   ]
  },
  {
   "cell_type": "code",
   "execution_count": 19,
   "id": "d51b8949",
   "metadata": {},
   "outputs": [
    {
     "data": {
      "text/plain": [
       "<sklearn.metrics._plot.confusion_matrix.ConfusionMatrixDisplay at 0x7fd40a885a30>"
      ]
     },
     "execution_count": 19,
     "metadata": {},
     "output_type": "execute_result"
    },
    {
     "data": {
      "image/png": "[encoded data removed]",
      "text/plain": [
       "<Figure size 432x288 with 2 Axes>"
      ]
     },
     "metadata": {},
     "output_type": "display_data"
    }
   ],
   "source": [
    "plot_confusion_matrix(knn10, X_test, y_test, cmap=plt.cm.Blues, normalize='true')"
   ]
  },
  {
   "cell_type": "code",
   "execution_count": 20,
   "id": "8d31dc62",
   "metadata": {},
   "outputs": [
    {
     "name": "stdout",
     "output_type": "stream",
     "text": [
      "              precision    recall  f1-score   support\n",
      "\n",
      "           0       0.97      0.98      0.98      9145\n",
      "           1       0.78      0.66      0.72       855\n",
      "\n",
      "    accuracy                           0.95     10000\n",
      "   macro avg       0.87      0.82      0.85     10000\n",
      "weighted avg       0.95      0.95      0.95     10000\n",
      "\n"
     ]
    }
   ],
   "source": [
    "print(classification_report(y_test, target10))"
   ]
  },
  {
   "cell_type": "code",
   "execution_count": 21,
   "id": "d974e9ca",
   "metadata": {
    "scrolled": true
   },
   "outputs": [
    {
     "data": {
      "text/plain": [
       "0.6608187134502924"
      ]
     },
     "execution_count": 21,
     "metadata": {},
     "output_type": "execute_result"
    }
   ],
   "source": [
    "recall_score(y_test, target10)"
   ]
  },
  {
   "cell_type": "code",
   "execution_count": 22,
   "id": "58c7e9d9",
   "metadata": {},
   "outputs": [],
   "source": [
    "# Отрисовка ROC-кривой\n",
    "def draw_roc_curve(y_true, y_score, pos_label, average):\n",
    "    fpr, tpr, thresholds = roc_curve(y_true, y_score, pos_label=pos_label)\n",
    "    roc_auc_value = roc_auc_score(y_true, y_score, average=average)\n",
    "    plt.figure()\n",
    "    lw = 2\n",
    "    plt.plot(fpr, tpr, color='darkorange', lw=lw, label='ROC curve (area = %0.2f)' % roc_auc_value)\n",
    "    plt.plot([0, 1], [0, 1], color='navy', lw=lw, linestyle='--')\n",
    "    plt.xlim([0.0, 1.0])\n",
    "    plt.ylim([0.0, 1.05])\n",
    "    plt.xlabel('False Positive Rate')\n",
    "    plt.ylabel('True Positive Rate')\n",
    "    plt.title('Receiver operating characteristic example')\n",
    "    plt.legend(loc=\"lower right\")\n",
    "    plt.show()"
   ]
  },
  {
   "cell_type": "code",
   "execution_count": 23,
   "id": "87e12b1a",
   "metadata": {},
   "outputs": [
    {
     "data": {
      "image/png": "[encoded data removed]",
      "text/plain": [
       "<Figure size 432x288 with 1 Axes>"
      ]
     },
     "metadata": {},
     "output_type": "display_data"
    }
   ],
   "source": [
    "# Для 10 ближайших соседей\n",
    "draw_roc_curve(y_test, target10, pos_label=1, average='micro')"
   ]
  },
  {
   "cell_type": "code",
   "execution_count": 24,
   "id": "efc77255",
   "metadata": {},
   "outputs": [
    {
     "data": {
      "text/plain": [
       "<sklearn.metrics._plot.precision_recall_curve.PrecisionRecallDisplay at 0x7fd40ad1f790>"
      ]
     },
     "execution_count": 24,
     "metadata": {},
     "output_type": "execute_result"
    },
    {
     "data": {
      "image/png": "[encoded data removed]",
      "text/plain": [
       "<Figure size 432x288 with 1 Axes>"
      ]
     },
     "metadata": {},
     "output_type": "display_data"
    }
   ],
   "source": [
    "precision, recall, _ = precision_recall_curve(y_test, target10)\n",
    "display = PrecisionRecallDisplay(precision, recall)\n",
    "display.plot()"
   ]
  },
  {
   "cell_type": "markdown",
   "id": "fd7e5b9a",
   "metadata": {},
   "source": [
    "<a id=\"6\"></a>\n",
    "# Подбор гиперпараметра K ([к оглавлению](#0))"
   ]
  },
  {
   "cell_type": "markdown",
   "id": "4c58b6cb",
   "metadata": {},
   "source": [
    "## K_Fold cross-validation"
   ]
  },
  {
   "cell_type": "code",
   "execution_count": 25,
   "id": "0a092b18",
   "metadata": {},
   "outputs": [],
   "source": [
    "X = df.loc[:, df.columns != 'fraud']\n",
    "y = df[\"fraud\"]"
   ]
  },
  {
   "cell_type": "code",
   "execution_count": 26,
   "id": "abf50fbc",
   "metadata": {},
   "outputs": [
    {
     "name": "stdout",
     "output_type": "stream",
     "text": [
      "CPU times: user 158 ms, sys: 76.3 ms, total: 234 ms\n",
      "Wall time: 12 s\n"
     ]
    },
    {
     "data": {
      "text/plain": [
       "GridSearchCV(cv=KFold(n_splits=5, random_state=None, shuffle=False),\n",
       "             estimator=KNeighborsClassifier(), n_jobs=-1,\n",
       "             param_grid={'n_neighbors': range(1, 10)}, scoring='recall')"
      ]
     },
     "execution_count": 26,
     "metadata": {},
     "output_type": "execute_result"
    }
   ],
   "source": [
    "%%time\n",
    "clf_gs = GridSearchCV(KNeighborsClassifier(),\n",
    "                      param_grid={'n_neighbors': range(1,10,1)},\n",
    "                      cv=KFold(n_splits=5),\n",
    "                      scoring='recall',\n",
    "                      n_jobs=-1\n",
    ")\n",
    "clf_gs.fit(X, y)"
   ]
  },
  {
   "cell_type": "code",
   "execution_count": 27,
   "id": "69d66e84",
   "metadata": {},
   "outputs": [
    {
     "data": {
      "text/plain": [
       "0.803486310666689"
      ]
     },
     "execution_count": 27,
     "metadata": {},
     "output_type": "execute_result"
    }
   ],
   "source": [
    "clf_gs.best_score_"
   ]
  },
  {
   "cell_type": "code",
   "execution_count": 28,
   "id": "99de4de1",
   "metadata": {},
   "outputs": [
    {
     "data": {
      "text/plain": [
       "[<matplotlib.lines.Line2D at 0x7fd40bb1d070>]"
      ]
     },
     "execution_count": 28,
     "metadata": {},
     "output_type": "execute_result"
    },
    {
     "data": {
      "image/png": "[encoded data removed]",
      "text/plain": [
       "<Figure size 432x288 with 1 Axes>"
      ]
     },
     "metadata": {},
     "output_type": "display_data"
    }
   ],
   "source": [
    "plt.plot(range(1,10,1), clf_gs.cv_results_['mean_test_score'])"
   ]
  },
  {
   "cell_type": "code",
   "execution_count": 38,
   "id": "4005f026",
   "metadata": {},
   "outputs": [],
   "source": [
    "target_gs = clf_gs.best_estimator_.predict(X)"
   ]
  },
  {
   "cell_type": "code",
   "execution_count": 39,
   "id": "1a8055f1",
   "metadata": {},
   "outputs": [
    {
     "name": "stdout",
     "output_type": "stream",
     "text": [
      "              precision    recall  f1-score   support\n",
      "\n",
      "           0       1.00      1.00      1.00      9145\n",
      "           1       1.00      1.00      1.00       855\n",
      "\n",
      "    accuracy                           1.00     10000\n",
      "   macro avg       1.00      1.00      1.00     10000\n",
      "weighted avg       1.00      1.00      1.00     10000\n",
      "\n"
     ]
    }
   ],
   "source": [
    "print(classification_report(y, target_gs))"
   ]
  },
  {
   "cell_type": "code",
   "execution_count": 31,
   "id": "90c8c45b",
   "metadata": {},
   "outputs": [
    {
     "data": {
      "text/plain": [
       "<sklearn.metrics._plot.confusion_matrix.ConfusionMatrixDisplay at 0x7fd40aabfc40>"
      ]
     },
     "execution_count": 31,
     "metadata": {},
     "output_type": "execute_result"
    },
    {
     "data": {
      "image/png": "[encoded data removed]",
      "text/plain": [
       "<Figure size 432x288 with 2 Axes>"
      ]
     },
     "metadata": {},
     "output_type": "display_data"
    }
   ],
   "source": [
    "plot_confusion_matrix(clf_gs.best_estimator_, X, y, cmap=plt.cm.Blues, normalize='true')"
   ]
  },
  {
   "cell_type": "code",
   "execution_count": 32,
   "id": "67698c88",
   "metadata": {},
   "outputs": [
    {
     "data": {
      "image/png": "[encoded data removed]",
      "text/plain": [
       "<Figure size 432x288 with 1 Axes>"
      ]
     },
     "metadata": {},
     "output_type": "display_data"
    }
   ],
   "source": [
    "draw_roc_curve(y, target_gs, pos_label=1, average='micro')"
   ]
  },
  {
   "cell_type": "markdown",
   "id": "0a3f4d56",
   "metadata": {},
   "source": [
    "## StratifiedKFold cross-validation"
   ]
  },
  {
   "cell_type": "code",
   "execution_count": 33,
   "id": "264232f0",
   "metadata": {
    "scrolled": false
   },
   "outputs": [
    {
     "name": "stdout",
     "output_type": "stream",
     "text": [
      "CPU times: user 218 ms, sys: 29.6 ms, total: 248 ms\n",
      "Wall time: 8.19 s\n"
     ]
    },
    {
     "data": {
      "text/plain": [
       "GridSearchCV(cv=StratifiedKFold(n_splits=5, random_state=None, shuffle=False),\n",
       "             estimator=KNeighborsClassifier(), n_jobs=-1,\n",
       "             param_grid={'n_neighbors': range(1, 10)}, scoring='recall')"
      ]
     },
     "execution_count": 33,
     "metadata": {},
     "output_type": "execute_result"
    }
   ],
   "source": [
    "%%time\n",
    "clf_gs_stf = GridSearchCV(KNeighborsClassifier(),\n",
    "                          param_grid={'n_neighbors': range(1,10,1)},\n",
    "                          cv=StratifiedKFold(n_splits=5),\n",
    "                          scoring='recall',\n",
    "                          n_jobs=-1\n",
    ")\n",
    "clf_gs_stf.fit(X, y)"
   ]
  },
  {
   "cell_type": "code",
   "execution_count": 34,
   "id": "822352b6",
   "metadata": {},
   "outputs": [
    {
     "data": {
      "text/plain": [
       "[<matplotlib.lines.Line2D at 0x7fd40af62f40>]"
      ]
     },
     "execution_count": 34,
     "metadata": {},
     "output_type": "execute_result"
    },
    {
     "data": {
      "image/png": "[encoded data removed]",
      "text/plain": [
       "<Figure size 432x288 with 1 Axes>"
      ]
     },
     "metadata": {},
     "output_type": "display_data"
    }
   ],
   "source": [
    "plt.plot(range(1,10,1), clf_gs_stf.cv_results_['mean_test_score'])"
   ]
  },
  {
   "cell_type": "code",
   "execution_count": 35,
   "id": "3eb08301",
   "metadata": {},
   "outputs": [
    {
     "data": {
      "text/plain": [
       "0.8033399854083516"
      ]
     },
     "execution_count": 35,
     "metadata": {},
     "output_type": "execute_result"
    }
   ],
   "source": [
    "clf_gs_stf.best_score_"
   ]
  },
  {
   "cell_type": "code",
   "execution_count": 36,
   "id": "a31d6e5b",
   "metadata": {},
   "outputs": [
    {
     "data": {
      "image/png": "[encoded data removed]",
      "text/plain": [
       "<Figure size 432x288 with 1 Axes>"
      ]
     },
     "metadata": {},
     "output_type": "display_data"
    }
   ],
   "source": [
    "target_gs_stf = clf_gs_stf.best_estimator_.predict(X)\n",
    "draw_roc_curve(y, target_gs_stf, pos_label=1, average='micro')"
   ]
  },
  {
   "cell_type": "markdown",
   "id": "032745b6",
   "metadata": {},
   "source": [
    "## Сравнение моделей"
   ]
  },
  {
   "cell_type": "markdown",
   "id": "c75525ac",
   "metadata": {},
   "source": [
    "|Метрика|Начальная модель K=10|Оптимальная модель (KFold)|Оптимальная модель (StratifiedKFold)|\n",
    "| :- | :-: | :-: | :-: |\n",
    "|Recall|0.66|0.8|0.8|\n",
    "|AUC|0.82|1|1|"
   ]
  }
 ],
 "metadata": {
  "kernelspec": {
   "display_name": "Python 3 (ipykernel)",
   "language": "python",
   "name": "python3"
  },
  "language_info": {
   "codemirror_mode": {
    "name": "ipython",
    "version": 3
   },
   "file_extension": ".py",
   "mimetype": "text/x-python",
   "name": "python",
   "nbconvert_exporter": "python",
   "pygments_lexer": "ipython3",
   "version": "3.9.7"
  },
  "toc": {
   "base_numbering": 1,
   "nav_menu": {},
   "number_sections": true,
   "sideBar": true,
   "skip_h1_title": false,
   "title_cell": "Table of Contents",
   "title_sidebar": "Contents",
   "toc_cell": false,
   "toc_position": {},
   "toc_section_display": true,
   "toc_window_display": false
  }
 },
 "nbformat": 4,
 "nbformat_minor": 5
}
